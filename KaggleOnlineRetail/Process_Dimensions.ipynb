{
 "cells": [
  {
   "cell_type": "markdown",
   "metadata": {},
   "source": [
    "## TOC:\n",
    "* [First Bullet Header](#first-bullet)\n",
    "* [Second Bullet Header](#second-bullet)"
   ]
  },
  {
   "cell_type": "code",
   "execution_count": 77,
   "metadata": {},
   "outputs": [],
   "source": [
    "import pandas as pd\n",
    "import os\n",
    "import numpy as np"
   ]
  },
  {
   "cell_type": "code",
   "execution_count": 453,
   "metadata": {},
   "outputs": [
    {
     "data": {
      "text/html": [
       "<div>\n",
       "<style scoped>\n",
       "    .dataframe tbody tr th:only-of-type {\n",
       "        vertical-align: middle;\n",
       "    }\n",
       "\n",
       "    .dataframe tbody tr th {\n",
       "        vertical-align: top;\n",
       "    }\n",
       "\n",
       "    .dataframe thead th {\n",
       "        text-align: right;\n",
       "    }\n",
       "</style>\n",
       "<table border=\"1\" class=\"dataframe\">\n",
       "  <thead>\n",
       "    <tr style=\"text-align: right;\">\n",
       "      <th></th>\n",
       "      <th>Invoice</th>\n",
       "      <th>StockCode</th>\n",
       "      <th>Description</th>\n",
       "      <th>Quantity</th>\n",
       "      <th>InvoiceDate</th>\n",
       "      <th>Price</th>\n",
       "      <th>Customer ID</th>\n",
       "      <th>Country</th>\n",
       "    </tr>\n",
       "  </thead>\n",
       "  <tbody>\n",
       "    <tr>\n",
       "      <th>0</th>\n",
       "      <td>489434</td>\n",
       "      <td>85048</td>\n",
       "      <td>15CM CHRISTMAS GLASS BALL 20 LIGHTS</td>\n",
       "      <td>12</td>\n",
       "      <td>2009-12-01 07:45:00</td>\n",
       "      <td>6.95</td>\n",
       "      <td>13085.0</td>\n",
       "      <td>United Kingdom</td>\n",
       "    </tr>\n",
       "    <tr>\n",
       "      <th>1</th>\n",
       "      <td>489434</td>\n",
       "      <td>79323P</td>\n",
       "      <td>PINK CHERRY LIGHTS</td>\n",
       "      <td>12</td>\n",
       "      <td>2009-12-01 07:45:00</td>\n",
       "      <td>6.75</td>\n",
       "      <td>13085.0</td>\n",
       "      <td>United Kingdom</td>\n",
       "    </tr>\n",
       "    <tr>\n",
       "      <th>2</th>\n",
       "      <td>489434</td>\n",
       "      <td>79323W</td>\n",
       "      <td>WHITE CHERRY LIGHTS</td>\n",
       "      <td>12</td>\n",
       "      <td>2009-12-01 07:45:00</td>\n",
       "      <td>6.75</td>\n",
       "      <td>13085.0</td>\n",
       "      <td>United Kingdom</td>\n",
       "    </tr>\n",
       "    <tr>\n",
       "      <th>3</th>\n",
       "      <td>489434</td>\n",
       "      <td>22041</td>\n",
       "      <td>RECORD FRAME 7\" SINGLE SIZE</td>\n",
       "      <td>48</td>\n",
       "      <td>2009-12-01 07:45:00</td>\n",
       "      <td>2.10</td>\n",
       "      <td>13085.0</td>\n",
       "      <td>United Kingdom</td>\n",
       "    </tr>\n",
       "    <tr>\n",
       "      <th>4</th>\n",
       "      <td>489434</td>\n",
       "      <td>21232</td>\n",
       "      <td>STRAWBERRY CERAMIC TRINKET BOX</td>\n",
       "      <td>24</td>\n",
       "      <td>2009-12-01 07:45:00</td>\n",
       "      <td>1.25</td>\n",
       "      <td>13085.0</td>\n",
       "      <td>United Kingdom</td>\n",
       "    </tr>\n",
       "  </tbody>\n",
       "</table>\n",
       "</div>"
      ],
      "text/plain": [
       "  Invoice StockCode                          Description  Quantity  \\\n",
       "0  489434     85048  15CM CHRISTMAS GLASS BALL 20 LIGHTS        12   \n",
       "1  489434    79323P                   PINK CHERRY LIGHTS        12   \n",
       "2  489434    79323W                  WHITE CHERRY LIGHTS        12   \n",
       "3  489434     22041         RECORD FRAME 7\" SINGLE SIZE         48   \n",
       "4  489434     21232       STRAWBERRY CERAMIC TRINKET BOX        24   \n",
       "\n",
       "           InvoiceDate  Price  Customer ID         Country  \n",
       "0  2009-12-01 07:45:00   6.95      13085.0  United Kingdom  \n",
       "1  2009-12-01 07:45:00   6.75      13085.0  United Kingdom  \n",
       "2  2009-12-01 07:45:00   6.75      13085.0  United Kingdom  \n",
       "3  2009-12-01 07:45:00   2.10      13085.0  United Kingdom  \n",
       "4  2009-12-01 07:45:00   1.25      13085.0  United Kingdom  "
      ]
     },
     "execution_count": 453,
     "metadata": {},
     "output_type": "execute_result"
    }
   ],
   "source": [
    "dirPath= \"C:\\\\Users\\\\John\\\\Documents\\\\GitHub\\\\DataExploration\\\\KaggleOnlineRetail\"\n",
    "dfRaw = pd.read_csv ( os.path.join ( dirPath, 'online_retail_II.csv') ) #, names =[])\n",
    "dfRaw.head()"
   ]
  },
  {
   "cell_type": "code",
   "execution_count": 447,
   "metadata": {},
   "outputs": [],
   "source": [
    "# Read in my country to continent lookup table\n",
    "dfCountries = pd.read_csv ( os.path.join ( dirPath ,'lkpCountries.csv') ) #, names =[])\n",
    "dfCountries = dfCountries.rename ( {'CountryName':'Country'}, axis=1, errors='raise')"
   ]
  },
  {
   "cell_type": "markdown",
   "metadata": {},
   "source": [
    "# Data Cleaning Step"
   ]
  },
  {
   "cell_type": "code",
   "execution_count": null,
   "metadata": {},
   "outputs": [],
   "source": [
    "# This was used in creation of lkpCountries.csv\n",
    "#countriesSeries = dfClean[ 'Country' ].value_counts()\n",
    "#dfCountries = pd.DataFrame ({'CountryName':countriesSeries.index})\n",
    "#dfCountries.to_csv ( os.path.join ( dirPath, 'lkpCountries.csv'), index=False )"
   ]
  },
  {
   "cell_type": "code",
   "execution_count": 454,
   "metadata": {},
   "outputs": [],
   "source": [
    "dfClean = dfRaw.copy()\n",
    "dfClean ['SalesAmount'] = dfClean['Quantity'] * dfClean['Price']"
   ]
  },
  {
   "cell_type": "code",
   "execution_count": 81,
   "metadata": {},
   "outputs": [],
   "source": [
    "# Customer ID\n",
    "\n",
    "# Missing Values - there are none\n",
    "#dfClean [dfClean ['Customer ID'] == np.NaN] ## None"
   ]
  },
  {
   "cell_type": "code",
   "execution_count": 87,
   "metadata": {},
   "outputs": [],
   "source": [
    "# Country\n",
    "#dfClean [ dfClean ['Country'] == '' ] \n",
    "#dfClean [ dfClean ['Country'] == ' ' ] "
   ]
  },
  {
   "cell_type": "markdown",
   "metadata": {},
   "source": [
    "#### Flag December 2011 Transactions as Censored / Remove 2011 Trans"
   ]
  },
  {
   "cell_type": "code",
   "execution_count": 455,
   "metadata": {},
   "outputs": [],
   "source": [
    "boolIndex = (dfClean ['InvoiceDate'] >= '2009-12-01') & (dfClean ['InvoiceDate'] <= '2009-12-31')\n",
    "dfClean['Keep'] = 'Yes'\n",
    "dfClean.loc[boolIndex,'Keep'] = 'No'\n",
    "# Added 12/12/2021, easier to remove 2009 transactions\n",
    "dfClean = dfClean[dfClean['Keep']=='Yes']"
   ]
  },
  {
   "cell_type": "markdown",
   "metadata": {},
   "source": [
    "# Create Fact Transactions"
   ]
  },
  {
   "cell_type": "code",
   "execution_count": 456,
   "metadata": {},
   "outputs": [
    {
     "data": {
      "text/html": [
       "<div>\n",
       "<style scoped>\n",
       "    .dataframe tbody tr th:only-of-type {\n",
       "        vertical-align: middle;\n",
       "    }\n",
       "\n",
       "    .dataframe tbody tr th {\n",
       "        vertical-align: top;\n",
       "    }\n",
       "\n",
       "    .dataframe thead th {\n",
       "        text-align: right;\n",
       "    }\n",
       "</style>\n",
       "<table border=\"1\" class=\"dataframe\">\n",
       "  <thead>\n",
       "    <tr style=\"text-align: right;\">\n",
       "      <th></th>\n",
       "      <th>Quantity</th>\n",
       "      <th>InvoiceDate</th>\n",
       "      <th>Invoice</th>\n",
       "      <th>SalesAmount</th>\n",
       "      <th>StockCode</th>\n",
       "      <th>Customer ID</th>\n",
       "      <th>Country</th>\n",
       "    </tr>\n",
       "  </thead>\n",
       "  <tbody>\n",
       "    <tr>\n",
       "      <th>45228</th>\n",
       "      <td>5</td>\n",
       "      <td>2010-01-04 09:24:00</td>\n",
       "      <td>493410</td>\n",
       "      <td>22.50</td>\n",
       "      <td>TEST001</td>\n",
       "      <td>12346.0</td>\n",
       "      <td>United Kingdom</td>\n",
       "    </tr>\n",
       "    <tr>\n",
       "      <th>45229</th>\n",
       "      <td>-1</td>\n",
       "      <td>2010-01-04 09:43:00</td>\n",
       "      <td>C493411</td>\n",
       "      <td>-4.25</td>\n",
       "      <td>21539</td>\n",
       "      <td>14590.0</td>\n",
       "      <td>United Kingdom</td>\n",
       "    </tr>\n",
       "    <tr>\n",
       "      <th>45230</th>\n",
       "      <td>5</td>\n",
       "      <td>2010-01-04 09:53:00</td>\n",
       "      <td>493412</td>\n",
       "      <td>22.50</td>\n",
       "      <td>TEST001</td>\n",
       "      <td>12346.0</td>\n",
       "      <td>United Kingdom</td>\n",
       "    </tr>\n",
       "    <tr>\n",
       "      <th>45231</th>\n",
       "      <td>1</td>\n",
       "      <td>2010-01-04 09:54:00</td>\n",
       "      <td>493413</td>\n",
       "      <td>0.85</td>\n",
       "      <td>21724</td>\n",
       "      <td>NaN</td>\n",
       "      <td>United Kingdom</td>\n",
       "    </tr>\n",
       "    <tr>\n",
       "      <th>45232</th>\n",
       "      <td>1</td>\n",
       "      <td>2010-01-04 09:54:00</td>\n",
       "      <td>493413</td>\n",
       "      <td>3.75</td>\n",
       "      <td>84578</td>\n",
       "      <td>NaN</td>\n",
       "      <td>United Kingdom</td>\n",
       "    </tr>\n",
       "  </tbody>\n",
       "</table>\n",
       "</div>"
      ],
      "text/plain": [
       "       Quantity          InvoiceDate  Invoice  SalesAmount StockCode  \\\n",
       "45228         5  2010-01-04 09:24:00   493410        22.50   TEST001   \n",
       "45229        -1  2010-01-04 09:43:00  C493411        -4.25     21539   \n",
       "45230         5  2010-01-04 09:53:00   493412        22.50   TEST001   \n",
       "45231         1  2010-01-04 09:54:00   493413         0.85     21724   \n",
       "45232         1  2010-01-04 09:54:00   493413         3.75     84578   \n",
       "\n",
       "       Customer ID         Country  \n",
       "45228      12346.0  United Kingdom  \n",
       "45229      14590.0  United Kingdom  \n",
       "45230      12346.0  United Kingdom  \n",
       "45231          NaN  United Kingdom  \n",
       "45232          NaN  United Kingdom  "
      ]
     },
     "execution_count": 456,
     "metadata": {},
     "output_type": "execute_result"
    }
   ],
   "source": [
    "dfTransactions = dfClean[['Quantity', 'InvoiceDate','Invoice' , 'SalesAmount', 'StockCode', 'Customer ID', 'Country']]\n",
    "dfTransactions.head()"
   ]
  },
  {
   "cell_type": "markdown",
   "metadata": {},
   "source": [
    "### Specify year one and year two"
   ]
  },
  {
   "cell_type": "code",
   "execution_count": 458,
   "metadata": {},
   "outputs": [],
   "source": [
    "yr1Bool = (dfClean['InvoiceDate'] >= '2009-12-01') & (dfClean['InvoiceDate'] < '2010-12-01')\n",
    "yr2Bool = (dfClean['InvoiceDate'] >= '2010-12-01') & (dfClean['InvoiceDate'] < '2011-12-01')\n",
    "\n",
    "dfTransactions['Analysis_Year'] = 'Other'\n",
    "dfTransactions.loc [yr1Bool, 'Analysis_Year'] = 'Yr1'\n",
    "dfTransactions.loc [yr2Bool, 'Analysis_Year'] = 'Yr2'"
   ]
  },
  {
   "cell_type": "markdown",
   "metadata": {},
   "source": [
    "# Create Customer Dimension"
   ]
  },
  {
   "cell_type": "code",
   "execution_count": 459,
   "metadata": {},
   "outputs": [],
   "source": [
    "dfCustomers = dfClean.groupby('Customer ID').agg({'Quantity': 'sum', 'SalesAmount': 'sum'}).reset_index()\n",
    "\n",
    "#dfCustomers.head()"
   ]
  },
  {
   "cell_type": "code",
   "execution_count": 460,
   "metadata": {},
   "outputs": [],
   "source": [
    "dfCustomers['SalesAmountDecile'] = 10 - pd.qcut(dfCustomers['SalesAmount'], 10,  labels = False) \n"
   ]
  },
  {
   "cell_type": "code",
   "execution_count": 461,
   "metadata": {},
   "outputs": [
    {
     "data": {
      "text/html": [
       "<div>\n",
       "<style scoped>\n",
       "    .dataframe tbody tr th:only-of-type {\n",
       "        vertical-align: middle;\n",
       "    }\n",
       "\n",
       "    .dataframe tbody tr th {\n",
       "        vertical-align: top;\n",
       "    }\n",
       "\n",
       "    .dataframe thead tr th {\n",
       "        text-align: left;\n",
       "    }\n",
       "</style>\n",
       "<table border=\"1\" class=\"dataframe\">\n",
       "  <thead>\n",
       "    <tr>\n",
       "      <th></th>\n",
       "      <th>SalesAmountBanded</th>\n",
       "      <th colspan=\"2\" halign=\"left\">SalesAmount</th>\n",
       "    </tr>\n",
       "    <tr>\n",
       "      <th></th>\n",
       "      <th></th>\n",
       "      <th>min</th>\n",
       "      <th>max</th>\n",
       "    </tr>\n",
       "  </thead>\n",
       "  <tbody>\n",
       "    <tr>\n",
       "      <th>0</th>\n",
       "      <td>Under Zero</td>\n",
       "      <td>-2.511109e+04</td>\n",
       "      <td>0.00</td>\n",
       "    </tr>\n",
       "    <tr>\n",
       "      <th>1</th>\n",
       "      <td>0-500</td>\n",
       "      <td>1.776357e-15</td>\n",
       "      <td>499.98</td>\n",
       "    </tr>\n",
       "    <tr>\n",
       "      <th>2</th>\n",
       "      <td>501-1000</td>\n",
       "      <td>5.002400e+02</td>\n",
       "      <td>999.70</td>\n",
       "    </tr>\n",
       "    <tr>\n",
       "      <th>3</th>\n",
       "      <td>1,001-5,000</td>\n",
       "      <td>1.000160e+03</td>\n",
       "      <td>4991.61</td>\n",
       "    </tr>\n",
       "    <tr>\n",
       "      <th>4</th>\n",
       "      <td>5,000-10,000</td>\n",
       "      <td>5.005460e+03</td>\n",
       "      <td>9982.31</td>\n",
       "    </tr>\n",
       "    <tr>\n",
       "      <th>5</th>\n",
       "      <td>10,000-20,000</td>\n",
       "      <td>1.000691e+04</td>\n",
       "      <td>19787.13</td>\n",
       "    </tr>\n",
       "    <tr>\n",
       "      <th>6</th>\n",
       "      <td>20,000-50,000</td>\n",
       "      <td>2.006177e+04</td>\n",
       "      <td>48975.65</td>\n",
       "    </tr>\n",
       "    <tr>\n",
       "      <th>7</th>\n",
       "      <td>50,001-100,000</td>\n",
       "      <td>5.154792e+04</td>\n",
       "      <td>96487.49</td>\n",
       "    </tr>\n",
       "    <tr>\n",
       "      <th>8</th>\n",
       "      <td>100,001-200,000</td>\n",
       "      <td>1.042197e+05</td>\n",
       "      <td>170397.61</td>\n",
       "    </tr>\n",
       "    <tr>\n",
       "      <th>9</th>\n",
       "      <td>200,001-300,000</td>\n",
       "      <td>2.335794e+05</td>\n",
       "      <td>285539.97</td>\n",
       "    </tr>\n",
       "    <tr>\n",
       "      <th>10</th>\n",
       "      <td>300,001-600,000</td>\n",
       "      <td>5.086456e+05</td>\n",
       "      <td>557209.48</td>\n",
       "    </tr>\n",
       "  </tbody>\n",
       "</table>\n",
       "</div>"
      ],
      "text/plain": [
       "   SalesAmountBanded   SalesAmount           \n",
       "                               min        max\n",
       "0         Under Zero -2.511109e+04       0.00\n",
       "1              0-500  1.776357e-15     499.98\n",
       "2           501-1000  5.002400e+02     999.70\n",
       "3        1,001-5,000  1.000160e+03    4991.61\n",
       "4       5,000-10,000  5.005460e+03    9982.31\n",
       "5      10,000-20,000  1.000691e+04   19787.13\n",
       "6      20,000-50,000  2.006177e+04   48975.65\n",
       "7     50,001-100,000  5.154792e+04   96487.49\n",
       "8    100,001-200,000  1.042197e+05  170397.61\n",
       "9    200,001-300,000  2.335794e+05  285539.97\n",
       "10   300,001-600,000  5.086456e+05  557209.48"
      ]
     },
     "execution_count": 461,
     "metadata": {},
     "output_type": "execute_result"
    }
   ],
   "source": [
    "# Bin the SalesAmount column\n",
    "bins = [600000,300000,200000,100000,50000,20000,10000,5000,1000,500,0,-100000000]\n",
    "bins.reverse()\n",
    "labels = ['300,001-600,000', '200,001-300,000', '100,001-200,000','50,001-100,000','20,000-50,000','10,000-20,000','5,000-10,000','1,001-5,000','501-1000','0-500','Under Zero'   ]\n",
    "labels.reverse()\n",
    "dfCustomers['SalesAmountBanded'] =pd.cut( dfCustomers['SalesAmount'] , bins,  labels=labels)\n",
    "\n",
    "# Check the bandings\n",
    "dfCustomers.groupby('SalesAmountBanded').agg({'SalesAmount': ['min','max']}  ).reset_index()\n",
    "\n",
    "#dfCustomers.head()"
   ]
  },
  {
   "cell_type": "markdown",
   "metadata": {},
   "source": [
    "### Calculate Number of Invoices Over Period (Orders)"
   ]
  },
  {
   "cell_type": "code",
   "execution_count": 463,
   "metadata": {},
   "outputs": [],
   "source": [
    "dfTransactionsSummary = dfTransactions.groupby ('Customer ID')['Invoice'].nunique().reset_index()\n",
    "dfTransactionsSummary = dfTransactionsSummary.rename ({'Invoice':'Number_Invoices'}, axis=1)\n",
    "dfCustomers = dfCustomers.merge (dfTransactionsSummary, on =['Customer ID'], how='left')"
   ]
  },
  {
   "cell_type": "markdown",
   "metadata": {},
   "source": [
    "### Calculate Number of InvoiceDates Over the Period"
   ]
  },
  {
   "cell_type": "code",
   "execution_count": 464,
   "metadata": {},
   "outputs": [],
   "source": [
    "dfTransactionsSummary = dfTransactions.groupby ('Customer ID')['InvoiceDate'].nunique().reset_index()\n",
    "dfTransactionsSummary = dfTransactionsSummary.rename ({'InvoiceDate':'Number_Invoices Dates'}, axis=1)\n",
    "dfCustomers = dfCustomers.merge (dfTransactionsSummary, on =['Customer ID'], how='left')\n"
   ]
  },
  {
   "cell_type": "markdown",
   "metadata": {},
   "source": [
    "### Calculate First Last Transactions Dates in Each Year and the Frequency in each Year and Overall"
   ]
  },
  {
   "cell_type": "code",
   "execution_count": 465,
   "metadata": {},
   "outputs": [
    {
     "data": {
      "text/html": [
       "<div>\n",
       "<style scoped>\n",
       "    .dataframe tbody tr th:only-of-type {\n",
       "        vertical-align: middle;\n",
       "    }\n",
       "\n",
       "    .dataframe tbody tr th {\n",
       "        vertical-align: top;\n",
       "    }\n",
       "\n",
       "    .dataframe thead th {\n",
       "        text-align: right;\n",
       "    }\n",
       "</style>\n",
       "<table border=\"1\" class=\"dataframe\">\n",
       "  <thead>\n",
       "    <tr style=\"text-align: right;\">\n",
       "      <th></th>\n",
       "      <th>Customer ID</th>\n",
       "      <th>Quantity</th>\n",
       "      <th>SalesAmount</th>\n",
       "      <th>SalesAmountDecile</th>\n",
       "      <th>SalesAmountBanded</th>\n",
       "      <th>Number_Invoices</th>\n",
       "      <th>Number_Invoices Dates</th>\n",
       "      <th>InvoiceDatemin</th>\n",
       "      <th>InvoiceDatemax</th>\n",
       "    </tr>\n",
       "  </thead>\n",
       "  <tbody>\n",
       "    <tr>\n",
       "      <th>0</th>\n",
       "      <td>12346.0</td>\n",
       "      <td>26</td>\n",
       "      <td>-178.18</td>\n",
       "      <td>10</td>\n",
       "      <td>Under Zero</td>\n",
       "      <td>12</td>\n",
       "      <td>12</td>\n",
       "      <td>2010-01-04 09:24:00</td>\n",
       "      <td>2011-01-18 10:17:00</td>\n",
       "    </tr>\n",
       "    <tr>\n",
       "      <th>1</th>\n",
       "      <td>12347.0</td>\n",
       "      <td>3286</td>\n",
       "      <td>5633.32</td>\n",
       "      <td>1</td>\n",
       "      <td>5,000-10,000</td>\n",
       "      <td>8</td>\n",
       "      <td>8</td>\n",
       "      <td>2010-10-31 14:20:00</td>\n",
       "      <td>2011-12-07 15:52:00</td>\n",
       "    </tr>\n",
       "    <tr>\n",
       "      <th>2</th>\n",
       "      <td>12348.0</td>\n",
       "      <td>2714</td>\n",
       "      <td>2019.40</td>\n",
       "      <td>3</td>\n",
       "      <td>1,001-5,000</td>\n",
       "      <td>5</td>\n",
       "      <td>5</td>\n",
       "      <td>2010-09-27 14:59:00</td>\n",
       "      <td>2011-09-25 13:13:00</td>\n",
       "    </tr>\n",
       "    <tr>\n",
       "      <th>3</th>\n",
       "      <td>12349.0</td>\n",
       "      <td>1624</td>\n",
       "      <td>4428.69</td>\n",
       "      <td>2</td>\n",
       "      <td>1,001-5,000</td>\n",
       "      <td>4</td>\n",
       "      <td>4</td>\n",
       "      <td>2010-04-29 13:20:00</td>\n",
       "      <td>2011-11-21 09:51:00</td>\n",
       "    </tr>\n",
       "    <tr>\n",
       "      <th>4</th>\n",
       "      <td>12350.0</td>\n",
       "      <td>197</td>\n",
       "      <td>334.40</td>\n",
       "      <td>8</td>\n",
       "      <td>0-500</td>\n",
       "      <td>1</td>\n",
       "      <td>1</td>\n",
       "      <td>2011-02-02 16:01:00</td>\n",
       "      <td>2011-02-02 16:01:00</td>\n",
       "    </tr>\n",
       "  </tbody>\n",
       "</table>\n",
       "</div>"
      ],
      "text/plain": [
       "   Customer ID  Quantity  SalesAmount  SalesAmountDecile SalesAmountBanded  \\\n",
       "0      12346.0        26      -178.18                 10        Under Zero   \n",
       "1      12347.0      3286      5633.32                  1      5,000-10,000   \n",
       "2      12348.0      2714      2019.40                  3       1,001-5,000   \n",
       "3      12349.0      1624      4428.69                  2       1,001-5,000   \n",
       "4      12350.0       197       334.40                  8             0-500   \n",
       "\n",
       "   Number_Invoices  Number_Invoices Dates       InvoiceDatemin  \\\n",
       "0               12                     12  2010-01-04 09:24:00   \n",
       "1                8                      8  2010-10-31 14:20:00   \n",
       "2                5                      5  2010-09-27 14:59:00   \n",
       "3                4                      4  2010-04-29 13:20:00   \n",
       "4                1                      1  2011-02-02 16:01:00   \n",
       "\n",
       "        InvoiceDatemax  \n",
       "0  2011-01-18 10:17:00  \n",
       "1  2011-12-07 15:52:00  \n",
       "2  2011-09-25 13:13:00  \n",
       "3  2011-11-21 09:51:00  \n",
       "4  2011-02-02 16:01:00  "
      ]
     },
     "execution_count": 465,
     "metadata": {},
     "output_type": "execute_result"
    }
   ],
   "source": [
    "# First, Last Transactions in Each Year for each CustomerID\n",
    "dfTransactionDateSummaries = dfTransactions.groupby (['Customer ID']).agg({'InvoiceDate': ['min','max']  }).reset_index()\n",
    "lvl0 = dfTransactionDateSummaries.columns.get_level_values(0)\n",
    "lvl1 = dfTransactionDateSummaries.columns.get_level_values(1)\n",
    "dfTransactionDateSummaries.columns = lvl0+lvl1\n",
    "\n",
    "#dfTransactions = dfTransactions.merge (dfTransactionDateSummaries, on=['Customer ID', 'Analysis_Year'] )\n",
    "\n",
    "dfCustomers = dfCustomers.merge (dfTransactionDateSummaries, on =['Customer ID'] )\n",
    "dfCustomers.head()"
   ]
  },
  {
   "cell_type": "markdown",
   "metadata": {},
   "source": [
    "# DIM Countries"
   ]
  },
  {
   "cell_type": "code",
   "execution_count": 466,
   "metadata": {},
   "outputs": [],
   "source": [
    "dfCountryBandings =  dfClean.groupby('Country').agg({'Quantity': 'sum', 'SalesAmount': 'sum'}).reset_index()\n",
    "# Deciles\n",
    "dfCountryBandings['CountrySalesAmountQuintile'] =  pd.qcut(dfCountryBandings['SalesAmount'], 5,  labels = False) + 1\n",
    "# Ranking\n",
    "dfCountryBandings['CountryRankSalesAmount'] = dfCountryBandings['SalesAmount'].rank()\n",
    "#dfCountryBandings.sort_values ('SalesAmount', ascending=False)"
   ]
  },
  {
   "cell_type": "code",
   "execution_count": 467,
   "metadata": {},
   "outputs": [
    {
     "data": {
      "text/html": [
       "<div>\n",
       "<style scoped>\n",
       "    .dataframe tbody tr th:only-of-type {\n",
       "        vertical-align: middle;\n",
       "    }\n",
       "\n",
       "    .dataframe tbody tr th {\n",
       "        vertical-align: top;\n",
       "    }\n",
       "\n",
       "    .dataframe thead th {\n",
       "        text-align: right;\n",
       "    }\n",
       "</style>\n",
       "<table border=\"1\" class=\"dataframe\">\n",
       "  <thead>\n",
       "    <tr style=\"text-align: right;\">\n",
       "      <th></th>\n",
       "      <th>Country</th>\n",
       "      <th>Continent</th>\n",
       "      <th>SubContinent</th>\n",
       "      <th>Quantity</th>\n",
       "      <th>SalesAmount</th>\n",
       "      <th>CountrySalesAmountQuintile</th>\n",
       "      <th>CountryRankSalesAmount</th>\n",
       "    </tr>\n",
       "  </thead>\n",
       "  <tbody>\n",
       "    <tr>\n",
       "      <th>0</th>\n",
       "      <td>United Kingdom</td>\n",
       "      <td>Europe</td>\n",
       "      <td>UK / Ireland</td>\n",
       "      <td>8310667</td>\n",
       "      <td>1.565493e+07</td>\n",
       "      <td>5</td>\n",
       "      <td>43.0</td>\n",
       "    </tr>\n",
       "    <tr>\n",
       "      <th>1</th>\n",
       "      <td>EIRE</td>\n",
       "      <td>Europe</td>\n",
       "      <td>UK / Ireland</td>\n",
       "      <td>321979</td>\n",
       "      <td>5.963916e+05</td>\n",
       "      <td>5</td>\n",
       "      <td>42.0</td>\n",
       "    </tr>\n",
       "    <tr>\n",
       "      <th>2</th>\n",
       "      <td>Germany</td>\n",
       "      <td>Europe</td>\n",
       "      <td>N. Europe</td>\n",
       "      <td>219880</td>\n",
       "      <td>4.082059e+05</td>\n",
       "      <td>5</td>\n",
       "      <td>40.0</td>\n",
       "    </tr>\n",
       "    <tr>\n",
       "      <th>3</th>\n",
       "      <td>France</td>\n",
       "      <td>Europe</td>\n",
       "      <td>N. Europe</td>\n",
       "      <td>181700</td>\n",
       "      <td>3.226368e+05</td>\n",
       "      <td>5</td>\n",
       "      <td>39.0</td>\n",
       "    </tr>\n",
       "    <tr>\n",
       "      <th>4</th>\n",
       "      <td>Netherlands</td>\n",
       "      <td>Europe</td>\n",
       "      <td>N. Europe</td>\n",
       "      <td>371129</td>\n",
       "      <td>5.333202e+05</td>\n",
       "      <td>5</td>\n",
       "      <td>41.0</td>\n",
       "    </tr>\n",
       "  </tbody>\n",
       "</table>\n",
       "</div>"
      ],
      "text/plain": [
       "          Country Continent  SubContinent  Quantity   SalesAmount  \\\n",
       "0  United Kingdom    Europe  UK / Ireland   8310667  1.565493e+07   \n",
       "1            EIRE    Europe  UK / Ireland    321979  5.963916e+05   \n",
       "2         Germany    Europe     N. Europe    219880  4.082059e+05   \n",
       "3          France    Europe     N. Europe    181700  3.226368e+05   \n",
       "4     Netherlands    Europe     N. Europe    371129  5.333202e+05   \n",
       "\n",
       "   CountrySalesAmountQuintile  CountryRankSalesAmount  \n",
       "0                           5                    43.0  \n",
       "1                           5                    42.0  \n",
       "2                           5                    40.0  \n",
       "3                           5                    39.0  \n",
       "4                           5                    41.0  "
      ]
     },
     "execution_count": 467,
     "metadata": {},
     "output_type": "execute_result"
    }
   ],
   "source": [
    "# Join the two country data frames together\n",
    "#dfCountryBandings['Country']\n",
    "dfCountries['Country']\n",
    "dfCountries= dfCountries.merge (dfCountryBandings, on='Country' , how='left')\n",
    "dfCountries.head()"
   ]
  },
  {
   "cell_type": "markdown",
   "metadata": {},
   "source": [
    "# Output CSVs"
   ]
  },
  {
   "cell_type": "code",
   "execution_count": 470,
   "metadata": {},
   "outputs": [],
   "source": [
    "dfCustomers.to_csv ( os.path.join ( dirPath, 'Outputs', 'DIM_Customers.csv'), index=False )\n",
    "dfTransactions.to_csv ( os.path.join ( dirPath,'Outputs', 'FACT_Transactions.csv'), index=False )\n",
    "dfCountries.to_csv ( os.path.join ( dirPath,'Outputs', 'DIM_Countries.csv'), index=False )"
   ]
  },
  {
   "cell_type": "code",
   "execution_count": 181,
   "metadata": {},
   "outputs": [],
   "source": [
    "\n",
    "#dfTmp = dfCustomers.groupby('SalesAmountDecile').agg({'SalesAmount': 'sum'}).reset_index()\n",
    "#dfTmp.to_csv ( os.path.join ( dirPath, 'Outputs', 'dfTmp.csv'), index=False )\n"
   ]
  }
 ],
 "metadata": {
  "kernelspec": {
   "display_name": "Python 3",
   "language": "python",
   "name": "python3"
  },
  "language_info": {
   "codemirror_mode": {
    "name": "ipython",
    "version": 3
   },
   "file_extension": ".py",
   "mimetype": "text/x-python",
   "name": "python",
   "nbconvert_exporter": "python",
   "pygments_lexer": "ipython3",
   "version": "3.7.6"
  }
 },
 "nbformat": 4,
 "nbformat_minor": 4
}
