{
 "cells": [
  {
   "cell_type": "code",
   "execution_count": 35,
   "metadata": {},
   "outputs": [],
   "source": [
    "#install.packages ('dplyr')\n",
    "#install.packages ('ggplot2')"
   ]
  },
  {
   "cell_type": "code",
   "execution_count": 34,
   "metadata": {},
   "outputs": [],
   "source": [
    "library ( ggplot2)\n",
    "library (dplyr)"
   ]
  },
  {
   "cell_type": "code",
   "execution_count": 5,
   "metadata": {},
   "outputs": [],
   "source": [
    "file_path = 'C:/Users/John/Documents/GitHub/DataExploration/KaggleOnlineRetail'\n",
    "file_name = 'online_retail_II.csv'\n",
    "df = read.csv (file.path (file_path, file_name))"
   ]
  },
  {
   "cell_type": "code",
   "execution_count": null,
   "metadata": {},
   "outputs": [],
   "source": [
    "df = df %>% mutate ( StockCode_2Chars =  as.numeric ( substring ( StockCode, 1, 2) ))"
   ]
  },
  {
   "cell_type": "code",
   "execution_count": 143,
   "metadata": {},
   "outputs": [
    {
     "data": {
      "text/html": [
       "<table>\n",
       "<thead><tr><th scope=col>Invoice</th><th scope=col>StockCode</th><th scope=col>Description</th><th scope=col>Quantity</th><th scope=col>InvoiceDate</th><th scope=col>Price</th><th scope=col>Customer.ID</th><th scope=col>Country</th><th scope=col>StockCode_2Chars</th></tr></thead>\n",
       "<tbody>\n",
       "\t<tr><td>489434                             </td><td>85048                              </td><td>15CM CHRISTMAS GLASS BALL 20 LIGHTS</td><td>12                                 </td><td>2009-12-01 07:45:00                </td><td>6.95                               </td><td>13085                              </td><td>United Kingdom                     </td><td>85                                 </td></tr>\n",
       "\t<tr><td>489434                             </td><td>79323P                             </td><td>PINK CHERRY LIGHTS                 </td><td>12                                 </td><td>2009-12-01 07:45:00                </td><td>6.75                               </td><td>13085                              </td><td>United Kingdom                     </td><td>79                                 </td></tr>\n",
       "\t<tr><td>489434                             </td><td>79323W                             </td><td> WHITE CHERRY LIGHTS               </td><td>12                                 </td><td>2009-12-01 07:45:00                </td><td>6.75                               </td><td>13085                              </td><td>United Kingdom                     </td><td>79                                 </td></tr>\n",
       "\t<tr><td>489434                             </td><td>22041                              </td><td>RECORD FRAME 7\" SINGLE SIZE        </td><td>48                                 </td><td>2009-12-01 07:45:00                </td><td>2.10                               </td><td>13085                              </td><td>United Kingdom                     </td><td>22                                 </td></tr>\n",
       "\t<tr><td>489434                             </td><td>21232                              </td><td>STRAWBERRY CERAMIC TRINKET BOX     </td><td>24                                 </td><td>2009-12-01 07:45:00                </td><td>1.25                               </td><td>13085                              </td><td>United Kingdom                     </td><td>21                                 </td></tr>\n",
       "\t<tr><td>489434                             </td><td>22064                              </td><td>PINK DOUGHNUT TRINKET POT          </td><td>24                                 </td><td>2009-12-01 07:45:00                </td><td>1.65                               </td><td>13085                              </td><td>United Kingdom                     </td><td>22                                 </td></tr>\n",
       "</tbody>\n",
       "</table>\n"
      ],
      "text/latex": [
       "\\begin{tabular}{r|lllllllll}\n",
       " Invoice & StockCode & Description & Quantity & InvoiceDate & Price & Customer.ID & Country & StockCode\\_2Chars\\\\\n",
       "\\hline\n",
       "\t 489434                              & 85048                               & 15CM CHRISTMAS GLASS BALL 20 LIGHTS & 12                                  & 2009-12-01 07:45:00                 & 6.95                                & 13085                               & United Kingdom                      & 85                                 \\\\\n",
       "\t 489434                              & 79323P                              & PINK CHERRY LIGHTS                  & 12                                  & 2009-12-01 07:45:00                 & 6.75                                & 13085                               & United Kingdom                      & 79                                 \\\\\n",
       "\t 489434                              & 79323W                              &  WHITE CHERRY LIGHTS                & 12                                  & 2009-12-01 07:45:00                 & 6.75                                & 13085                               & United Kingdom                      & 79                                 \\\\\n",
       "\t 489434                              & 22041                               & RECORD FRAME 7\" SINGLE SIZE         & 48                                  & 2009-12-01 07:45:00                 & 2.10                                & 13085                               & United Kingdom                      & 22                                 \\\\\n",
       "\t 489434                              & 21232                               & STRAWBERRY CERAMIC TRINKET BOX      & 24                                  & 2009-12-01 07:45:00                 & 1.25                                & 13085                               & United Kingdom                      & 21                                 \\\\\n",
       "\t 489434                              & 22064                               & PINK DOUGHNUT TRINKET POT           & 24                                  & 2009-12-01 07:45:00                 & 1.65                                & 13085                               & United Kingdom                      & 22                                 \\\\\n",
       "\\end{tabular}\n"
      ],
      "text/markdown": [
       "\n",
       "| Invoice | StockCode | Description | Quantity | InvoiceDate | Price | Customer.ID | Country | StockCode_2Chars |\n",
       "|---|---|---|---|---|---|---|---|---|\n",
       "| 489434                              | 85048                               | 15CM CHRISTMAS GLASS BALL 20 LIGHTS | 12                                  | 2009-12-01 07:45:00                 | 6.95                                | 13085                               | United Kingdom                      | 85                                  |\n",
       "| 489434                              | 79323P                              | PINK CHERRY LIGHTS                  | 12                                  | 2009-12-01 07:45:00                 | 6.75                                | 13085                               | United Kingdom                      | 79                                  |\n",
       "| 489434                              | 79323W                              |  WHITE CHERRY LIGHTS                | 12                                  | 2009-12-01 07:45:00                 | 6.75                                | 13085                               | United Kingdom                      | 79                                  |\n",
       "| 489434                              | 22041                               | RECORD FRAME 7\" SINGLE SIZE         | 48                                  | 2009-12-01 07:45:00                 | 2.10                                | 13085                               | United Kingdom                      | 22                                  |\n",
       "| 489434                              | 21232                               | STRAWBERRY CERAMIC TRINKET BOX      | 24                                  | 2009-12-01 07:45:00                 | 1.25                                | 13085                               | United Kingdom                      | 21                                  |\n",
       "| 489434                              | 22064                               | PINK DOUGHNUT TRINKET POT           | 24                                  | 2009-12-01 07:45:00                 | 1.65                                | 13085                               | United Kingdom                      | 22                                  |\n",
       "\n"
      ],
      "text/plain": [
       "  Invoice StockCode Description                         Quantity\n",
       "1 489434  85048     15CM CHRISTMAS GLASS BALL 20 LIGHTS 12      \n",
       "2 489434  79323P    PINK CHERRY LIGHTS                  12      \n",
       "3 489434  79323W     WHITE CHERRY LIGHTS                12      \n",
       "4 489434  22041     RECORD FRAME 7\" SINGLE SIZE         48      \n",
       "5 489434  21232     STRAWBERRY CERAMIC TRINKET BOX      24      \n",
       "6 489434  22064     PINK DOUGHNUT TRINKET POT           24      \n",
       "  InvoiceDate         Price Customer.ID Country        StockCode_2Chars\n",
       "1 2009-12-01 07:45:00 6.95  13085       United Kingdom 85              \n",
       "2 2009-12-01 07:45:00 6.75  13085       United Kingdom 79              \n",
       "3 2009-12-01 07:45:00 6.75  13085       United Kingdom 79              \n",
       "4 2009-12-01 07:45:00 2.10  13085       United Kingdom 22              \n",
       "5 2009-12-01 07:45:00 1.25  13085       United Kingdom 21              \n",
       "6 2009-12-01 07:45:00 1.65  13085       United Kingdom 22              "
      ]
     },
     "metadata": {},
     "output_type": "display_data"
    }
   ],
   "source": [
    "head (df)"
   ]
  },
  {
   "cell_type": "code",
   "execution_count": 142,
   "metadata": {},
   "outputs": [
    {
     "name": "stderr",
     "output_type": "stream",
     "text": [
      "Warning message in mask$eval_all_mutate(quo):\n",
      "\"NAs introduced by coercion\""
     ]
    }
   ],
   "source": []
  },
  {
   "cell_type": "code",
   "execution_count": 105,
   "metadata": {},
   "outputs": [
    {
     "name": "stderr",
     "output_type": "stream",
     "text": [
      "`summarise()` has grouped output by 'Description'. You can override using the `.groups` argument.\n"
     ]
    },
    {
     "data": {
      "text/html": [
       "<table>\n",
       "<thead><tr><th scope=col>Description</th><th scope=col>StockCode</th><th scope=col>n</th></tr></thead>\n",
       "<tbody>\n",
       "\t<tr><td>WHITE HANGING HEART T-LIGHT HOLDER</td><td>85123A                            </td><td>5817                              </td></tr>\n",
       "\t<tr><td>REGENCY CAKESTAND 3 TIER          </td><td>22423                             </td><td>4412                              </td></tr>\n",
       "\t<tr><td>JUMBO BAG RED RETROSPOT           </td><td>85099B                            </td><td>3444                              </td></tr>\n",
       "\t<tr><td>ASSORTED COLOUR BIRD ORNAMENT     </td><td>84879                             </td><td>2958                              </td></tr>\n",
       "\t<tr><td>PARTY BUNTING                     </td><td>47566                             </td><td>2765                              </td></tr>\n",
       "\t<tr><td>STRAWBERRY CERAMIC TRINKET BOX    </td><td>21232                             </td><td>2613                              </td></tr>\n",
       "\t<tr><td>LUNCH BAG  BLACK SKULL.           </td><td>20727                             </td><td>2529                              </td></tr>\n",
       "\t<tr><td>JUMBO STORAGE BAG SUKI            </td><td>21931                             </td><td>2434                              </td></tr>\n",
       "\t<tr><td>HEART OF WICKER SMALL             </td><td>22469                             </td><td>2319                              </td></tr>\n",
       "\t<tr><td>JUMBO SHOPPER VINTAGE RED PAISLEY </td><td>22411                             </td><td>2297                              </td></tr>\n",
       "\t<tr><td>60 TEATIME FAIRY CAKE CASES       </td><td>84991                             </td><td>2271                              </td></tr>\n",
       "\t<tr><td>PAPER CHAIN KIT 50'S CHRISTMAS    </td><td>22086                             </td><td>2215                              </td></tr>\n",
       "\t<tr><td>LUNCH BAG SPACEBOY DESIGN         </td><td>22382                             </td><td>2206                              </td></tr>\n",
       "\t<tr><td>REX CASH+CARRY JUMBO SHOPPER      </td><td>21034                             </td><td>2199                              </td></tr>\n",
       "\t<tr><td>HOME BUILDING BLOCK WORD          </td><td>21754                             </td><td>2192                              </td></tr>\n",
       "\t<tr><td>LUNCH BAG CARS BLUE               </td><td>20728                             </td><td>2184                              </td></tr>\n",
       "\t<tr><td>NATURAL SLATE HEART CHALKBOARD    </td><td>22457                             </td><td>2151                              </td></tr>\n",
       "\t<tr><td>BAKING SET 9 PIECE RETROSPOT      </td><td>22138                             </td><td>2150                              </td></tr>\n",
       "\t<tr><td>POSTAGE                           </td><td>POST                              </td><td>2115                              </td></tr>\n",
       "\t<tr><td>WOODEN PICTURE FRAME WHITE FINISH </td><td>82482                             </td><td>2115                              </td></tr>\n",
       "\t<tr><td>HEART OF WICKER LARGE             </td><td>22470                             </td><td>2112                              </td></tr>\n",
       "\t<tr><td>WOODEN FRAME ANTIQUE WHITE        </td><td>82494L                            </td><td>2101                              </td></tr>\n",
       "\t<tr><td>PACK OF 60 PINK PAISLEY CAKE CASES</td><td>21977                             </td><td>2092                              </td></tr>\n",
       "\t<tr><td>LUNCH BAG WOODLAND                </td><td>20726                             </td><td>2050                              </td></tr>\n",
       "\t<tr><td>VINTAGE SNAP CARDS                </td><td>21790                             </td><td>1988                              </td></tr>\n",
       "\t<tr><td>LUNCH BAG RED RETROSPOT           </td><td>20725                             </td><td>1984                              </td></tr>\n",
       "\t<tr><td>VICTORIAN GLASS HANGING T-LIGHT   </td><td>22178                             </td><td>1934                              </td></tr>\n",
       "\t<tr><td>JUMBO BAG STRAWBERRY              </td><td>85099F                            </td><td>1914                              </td></tr>\n",
       "\t<tr><td>RED HANGING HEART T-LIGHT HOLDER  </td><td>21733                             </td><td>1902                              </td></tr>\n",
       "\t<tr><td>6 RIBBONS RUSTIC CHARM            </td><td>22077                             </td><td>1856                              </td></tr>\n",
       "\t<tr><td>...</td><td>...</td><td>...</td></tr>\n",
       "\t<tr><td>WOOD ANIMALS HEIGHT CHART STICKERS </td><td>21249                              </td><td>1                                  </td></tr>\n",
       "\t<tr><td>WOODEN HEART CHRISTMAS SCANDISPOT  </td><td>22577                              </td><td>1                                  </td></tr>\n",
       "\t<tr><td>WOVEN BERRIES CUSHION COVER        </td><td>46776b                             </td><td>1                                  </td></tr>\n",
       "\t<tr><td>WOVEN BUBBLE GUM CUSHION COVER     </td><td>46776a                             </td><td>1                                  </td></tr>\n",
       "\t<tr><td>WOVEN CANDY CUSHION COVER          </td><td>46776e                             </td><td>1                                  </td></tr>\n",
       "\t<tr><td>WOVEN ROSE GARDEN CUSHION COVER    </td><td>46776f                             </td><td>1                                  </td></tr>\n",
       "\t<tr><td>WRAP CHRISTMAS DECOUPAGE           </td><td>16169A                             </td><td>1                                  </td></tr>\n",
       "\t<tr><td>WRAP ROMANTIC DECOUPAGE            </td><td>16169G                             </td><td>1                                  </td></tr>\n",
       "\t<tr><td>WRAPPING PAPER, XMAS VILLAGE       </td><td>22959                              </td><td>1                                  </td></tr>\n",
       "\t<tr><td>wrong barcode                      </td><td>21689                              </td><td>1                                  </td></tr>\n",
       "\t<tr><td>wrong barcode (22467)              </td><td>22719                              </td><td>1                                  </td></tr>\n",
       "\t<tr><td>wrong code                         </td><td>22719                              </td><td>1                                  </td></tr>\n",
       "\t<tr><td>wrong code                         </td><td>85232B                             </td><td>1                                  </td></tr>\n",
       "\t<tr><td>wrong code?                        </td><td>22467                              </td><td>1                                  </td></tr>\n",
       "\t<tr><td>wrong ctn size                     </td><td>85017A                             </td><td>1                                  </td></tr>\n",
       "\t<tr><td>wrongly coded-23343                </td><td>20713                              </td><td>1                                  </td></tr>\n",
       "\t<tr><td>wrongly coded 23343                </td><td>20713                              </td><td>1                                  </td></tr>\n",
       "\t<tr><td>wrongly marked                     </td><td>21192                              </td><td>1                                  </td></tr>\n",
       "\t<tr><td>wrongly marked 23343               </td><td>20713                              </td><td>1                                  </td></tr>\n",
       "\t<tr><td>wrongly marked carton 22804        </td><td>85123A                             </td><td>1                                  </td></tr>\n",
       "\t<tr><td>wrongly marked. 23343 in box       </td><td>20713                              </td><td>1                                  </td></tr>\n",
       "\t<tr><td>Wrongly mrked had 85123a in box    </td><td>22804                              </td><td>1                                  </td></tr>\n",
       "\t<tr><td>wrongly sold (22719) barcode       </td><td>22467                              </td><td>1                                  </td></tr>\n",
       "\t<tr><td>wrongly sold as sets               </td><td>85172                              </td><td>1                                  </td></tr>\n",
       "\t<tr><td>wrongly sold sets                  </td><td>85175                              </td><td>1                                  </td></tr>\n",
       "\t<tr><td>Zebra invcing error                </td><td>10120                              </td><td>1                                  </td></tr>\n",
       "\t<tr><td>ZINC HANGING HEART T-LITE HLDR     </td><td>85123b                             </td><td>1                                  </td></tr>\n",
       "\t<tr><td>ZINC HEART HANGER WITH HOOKS       </td><td>21053                              </td><td>1                                  </td></tr>\n",
       "\t<tr><td>ZINC PLANT POT HOLDER              </td><td>23106                              </td><td>1                                  </td></tr>\n",
       "\t<tr><td>ZINC STAR T-LIGHT HOLDER           </td><td>23086                              </td><td>1                                  </td></tr>\n",
       "</tbody>\n",
       "</table>\n"
      ],
      "text/latex": [
       "\\begin{tabular}{r|lll}\n",
       " Description & StockCode & n\\\\\n",
       "\\hline\n",
       "\t WHITE HANGING HEART T-LIGHT HOLDER & 85123A                             & 5817                              \\\\\n",
       "\t REGENCY CAKESTAND 3 TIER           & 22423                              & 4412                              \\\\\n",
       "\t JUMBO BAG RED RETROSPOT            & 85099B                             & 3444                              \\\\\n",
       "\t ASSORTED COLOUR BIRD ORNAMENT      & 84879                              & 2958                              \\\\\n",
       "\t PARTY BUNTING                      & 47566                              & 2765                              \\\\\n",
       "\t STRAWBERRY CERAMIC TRINKET BOX     & 21232                              & 2613                              \\\\\n",
       "\t LUNCH BAG  BLACK SKULL.            & 20727                              & 2529                              \\\\\n",
       "\t JUMBO STORAGE BAG SUKI             & 21931                              & 2434                              \\\\\n",
       "\t HEART OF WICKER SMALL              & 22469                              & 2319                              \\\\\n",
       "\t JUMBO SHOPPER VINTAGE RED PAISLEY  & 22411                              & 2297                              \\\\\n",
       "\t 60 TEATIME FAIRY CAKE CASES        & 84991                              & 2271                              \\\\\n",
       "\t PAPER CHAIN KIT 50'S CHRISTMAS     & 22086                              & 2215                              \\\\\n",
       "\t LUNCH BAG SPACEBOY DESIGN          & 22382                              & 2206                              \\\\\n",
       "\t REX CASH+CARRY JUMBO SHOPPER       & 21034                              & 2199                              \\\\\n",
       "\t HOME BUILDING BLOCK WORD           & 21754                              & 2192                              \\\\\n",
       "\t LUNCH BAG CARS BLUE                & 20728                              & 2184                              \\\\\n",
       "\t NATURAL SLATE HEART CHALKBOARD     & 22457                              & 2151                              \\\\\n",
       "\t BAKING SET 9 PIECE RETROSPOT       & 22138                              & 2150                              \\\\\n",
       "\t POSTAGE                            & POST                               & 2115                              \\\\\n",
       "\t WOODEN PICTURE FRAME WHITE FINISH  & 82482                              & 2115                              \\\\\n",
       "\t HEART OF WICKER LARGE              & 22470                              & 2112                              \\\\\n",
       "\t WOODEN FRAME ANTIQUE WHITE         & 82494L                             & 2101                              \\\\\n",
       "\t PACK OF 60 PINK PAISLEY CAKE CASES & 21977                              & 2092                              \\\\\n",
       "\t LUNCH BAG WOODLAND                 & 20726                              & 2050                              \\\\\n",
       "\t VINTAGE SNAP CARDS                 & 21790                              & 1988                              \\\\\n",
       "\t LUNCH BAG RED RETROSPOT            & 20725                              & 1984                              \\\\\n",
       "\t VICTORIAN GLASS HANGING T-LIGHT    & 22178                              & 1934                              \\\\\n",
       "\t JUMBO BAG STRAWBERRY               & 85099F                             & 1914                              \\\\\n",
       "\t RED HANGING HEART T-LIGHT HOLDER   & 21733                              & 1902                              \\\\\n",
       "\t 6 RIBBONS RUSTIC CHARM             & 22077                              & 1856                              \\\\\n",
       "\t ... & ... & ...\\\\\n",
       "\t WOOD ANIMALS HEIGHT CHART STICKERS  & 21249                               & 1                                  \\\\\n",
       "\t WOODEN HEART CHRISTMAS SCANDISPOT   & 22577                               & 1                                  \\\\\n",
       "\t WOVEN BERRIES CUSHION COVER         & 46776b                              & 1                                  \\\\\n",
       "\t WOVEN BUBBLE GUM CUSHION COVER      & 46776a                              & 1                                  \\\\\n",
       "\t WOVEN CANDY CUSHION COVER           & 46776e                              & 1                                  \\\\\n",
       "\t WOVEN ROSE GARDEN CUSHION COVER     & 46776f                              & 1                                  \\\\\n",
       "\t WRAP CHRISTMAS DECOUPAGE            & 16169A                              & 1                                  \\\\\n",
       "\t WRAP ROMANTIC DECOUPAGE             & 16169G                              & 1                                  \\\\\n",
       "\t WRAPPING PAPER, XMAS VILLAGE        & 22959                               & 1                                  \\\\\n",
       "\t wrong barcode                       & 21689                               & 1                                  \\\\\n",
       "\t wrong barcode (22467)               & 22719                               & 1                                  \\\\\n",
       "\t wrong code                          & 22719                               & 1                                  \\\\\n",
       "\t wrong code                          & 85232B                              & 1                                  \\\\\n",
       "\t wrong code?                         & 22467                               & 1                                  \\\\\n",
       "\t wrong ctn size                      & 85017A                              & 1                                  \\\\\n",
       "\t wrongly coded-23343                 & 20713                               & 1                                  \\\\\n",
       "\t wrongly coded 23343                 & 20713                               & 1                                  \\\\\n",
       "\t wrongly marked                      & 21192                               & 1                                  \\\\\n",
       "\t wrongly marked 23343                & 20713                               & 1                                  \\\\\n",
       "\t wrongly marked carton 22804         & 85123A                              & 1                                  \\\\\n",
       "\t wrongly marked. 23343 in box        & 20713                               & 1                                  \\\\\n",
       "\t Wrongly mrked had 85123a in box     & 22804                               & 1                                  \\\\\n",
       "\t wrongly sold (22719) barcode        & 22467                               & 1                                  \\\\\n",
       "\t wrongly sold as sets                & 85172                               & 1                                  \\\\\n",
       "\t wrongly sold sets                   & 85175                               & 1                                  \\\\\n",
       "\t Zebra invcing error                 & 10120                               & 1                                  \\\\\n",
       "\t ZINC HANGING HEART T-LITE HLDR      & 85123b                              & 1                                  \\\\\n",
       "\t ZINC HEART HANGER WITH HOOKS        & 21053                               & 1                                  \\\\\n",
       "\t ZINC PLANT POT HOLDER               & 23106                               & 1                                  \\\\\n",
       "\t ZINC STAR T-LIGHT HOLDER            & 23086                               & 1                                  \\\\\n",
       "\\end{tabular}\n"
      ],
      "text/markdown": [
       "\n",
       "| Description | StockCode | n |\n",
       "|---|---|---|\n",
       "| WHITE HANGING HEART T-LIGHT HOLDER | 85123A                             | 5817                               |\n",
       "| REGENCY CAKESTAND 3 TIER           | 22423                              | 4412                               |\n",
       "| JUMBO BAG RED RETROSPOT            | 85099B                             | 3444                               |\n",
       "| ASSORTED COLOUR BIRD ORNAMENT      | 84879                              | 2958                               |\n",
       "| PARTY BUNTING                      | 47566                              | 2765                               |\n",
       "| STRAWBERRY CERAMIC TRINKET BOX     | 21232                              | 2613                               |\n",
       "| LUNCH BAG  BLACK SKULL.            | 20727                              | 2529                               |\n",
       "| JUMBO STORAGE BAG SUKI             | 21931                              | 2434                               |\n",
       "| HEART OF WICKER SMALL              | 22469                              | 2319                               |\n",
       "| JUMBO SHOPPER VINTAGE RED PAISLEY  | 22411                              | 2297                               |\n",
       "| 60 TEATIME FAIRY CAKE CASES        | 84991                              | 2271                               |\n",
       "| PAPER CHAIN KIT 50'S CHRISTMAS     | 22086                              | 2215                               |\n",
       "| LUNCH BAG SPACEBOY DESIGN          | 22382                              | 2206                               |\n",
       "| REX CASH+CARRY JUMBO SHOPPER       | 21034                              | 2199                               |\n",
       "| HOME BUILDING BLOCK WORD           | 21754                              | 2192                               |\n",
       "| LUNCH BAG CARS BLUE                | 20728                              | 2184                               |\n",
       "| NATURAL SLATE HEART CHALKBOARD     | 22457                              | 2151                               |\n",
       "| BAKING SET 9 PIECE RETROSPOT       | 22138                              | 2150                               |\n",
       "| POSTAGE                            | POST                               | 2115                               |\n",
       "| WOODEN PICTURE FRAME WHITE FINISH  | 82482                              | 2115                               |\n",
       "| HEART OF WICKER LARGE              | 22470                              | 2112                               |\n",
       "| WOODEN FRAME ANTIQUE WHITE         | 82494L                             | 2101                               |\n",
       "| PACK OF 60 PINK PAISLEY CAKE CASES | 21977                              | 2092                               |\n",
       "| LUNCH BAG WOODLAND                 | 20726                              | 2050                               |\n",
       "| VINTAGE SNAP CARDS                 | 21790                              | 1988                               |\n",
       "| LUNCH BAG RED RETROSPOT            | 20725                              | 1984                               |\n",
       "| VICTORIAN GLASS HANGING T-LIGHT    | 22178                              | 1934                               |\n",
       "| JUMBO BAG STRAWBERRY               | 85099F                             | 1914                               |\n",
       "| RED HANGING HEART T-LIGHT HOLDER   | 21733                              | 1902                               |\n",
       "| 6 RIBBONS RUSTIC CHARM             | 22077                              | 1856                               |\n",
       "| ... | ... | ... |\n",
       "| WOOD ANIMALS HEIGHT CHART STICKERS  | 21249                               | 1                                   |\n",
       "| WOODEN HEART CHRISTMAS SCANDISPOT   | 22577                               | 1                                   |\n",
       "| WOVEN BERRIES CUSHION COVER         | 46776b                              | 1                                   |\n",
       "| WOVEN BUBBLE GUM CUSHION COVER      | 46776a                              | 1                                   |\n",
       "| WOVEN CANDY CUSHION COVER           | 46776e                              | 1                                   |\n",
       "| WOVEN ROSE GARDEN CUSHION COVER     | 46776f                              | 1                                   |\n",
       "| WRAP CHRISTMAS DECOUPAGE            | 16169A                              | 1                                   |\n",
       "| WRAP ROMANTIC DECOUPAGE             | 16169G                              | 1                                   |\n",
       "| WRAPPING PAPER, XMAS VILLAGE        | 22959                               | 1                                   |\n",
       "| wrong barcode                       | 21689                               | 1                                   |\n",
       "| wrong barcode (22467)               | 22719                               | 1                                   |\n",
       "| wrong code                          | 22719                               | 1                                   |\n",
       "| wrong code                          | 85232B                              | 1                                   |\n",
       "| wrong code?                         | 22467                               | 1                                   |\n",
       "| wrong ctn size                      | 85017A                              | 1                                   |\n",
       "| wrongly coded-23343                 | 20713                               | 1                                   |\n",
       "| wrongly coded 23343                 | 20713                               | 1                                   |\n",
       "| wrongly marked                      | 21192                               | 1                                   |\n",
       "| wrongly marked 23343                | 20713                               | 1                                   |\n",
       "| wrongly marked carton 22804         | 85123A                              | 1                                   |\n",
       "| wrongly marked. 23343 in box        | 20713                               | 1                                   |\n",
       "| Wrongly mrked had 85123a in box     | 22804                               | 1                                   |\n",
       "| wrongly sold (22719) barcode        | 22467                               | 1                                   |\n",
       "| wrongly sold as sets                | 85172                               | 1                                   |\n",
       "| wrongly sold sets                   | 85175                               | 1                                   |\n",
       "| Zebra invcing error                 | 10120                               | 1                                   |\n",
       "| ZINC HANGING HEART T-LITE HLDR      | 85123b                              | 1                                   |\n",
       "| ZINC HEART HANGER WITH HOOKS        | 21053                               | 1                                   |\n",
       "| ZINC PLANT POT HOLDER               | 23106                               | 1                                   |\n",
       "| ZINC STAR T-LIGHT HOLDER            | 23086                               | 1                                   |\n",
       "\n"
      ],
      "text/plain": [
       "     Description                         StockCode n   \n",
       "1    WHITE HANGING HEART T-LIGHT HOLDER  85123A    5817\n",
       "2    REGENCY CAKESTAND 3 TIER            22423     4412\n",
       "3    JUMBO BAG RED RETROSPOT             85099B    3444\n",
       "4    ASSORTED COLOUR BIRD ORNAMENT       84879     2958\n",
       "5    PARTY BUNTING                       47566     2765\n",
       "6    STRAWBERRY CERAMIC TRINKET BOX      21232     2613\n",
       "7    LUNCH BAG  BLACK SKULL.             20727     2529\n",
       "8    JUMBO STORAGE BAG SUKI              21931     2434\n",
       "9    HEART OF WICKER SMALL               22469     2319\n",
       "10   JUMBO SHOPPER VINTAGE RED PAISLEY   22411     2297\n",
       "11   60 TEATIME FAIRY CAKE CASES         84991     2271\n",
       "12   PAPER CHAIN KIT 50'S CHRISTMAS      22086     2215\n",
       "13   LUNCH BAG SPACEBOY DESIGN           22382     2206\n",
       "14   REX CASH+CARRY JUMBO SHOPPER        21034     2199\n",
       "15   HOME BUILDING BLOCK WORD            21754     2192\n",
       "16   LUNCH BAG CARS BLUE                 20728     2184\n",
       "17   NATURAL SLATE HEART CHALKBOARD      22457     2151\n",
       "18   BAKING SET 9 PIECE RETROSPOT        22138     2150\n",
       "19   POSTAGE                             POST      2115\n",
       "20   WOODEN PICTURE FRAME WHITE FINISH   82482     2115\n",
       "21   HEART OF WICKER LARGE               22470     2112\n",
       "22   WOODEN FRAME ANTIQUE WHITE          82494L    2101\n",
       "23   PACK OF 60 PINK PAISLEY CAKE CASES  21977     2092\n",
       "24   LUNCH BAG WOODLAND                  20726     2050\n",
       "25   VINTAGE SNAP CARDS                  21790     1988\n",
       "26   LUNCH BAG RED RETROSPOT             20725     1984\n",
       "27   VICTORIAN GLASS HANGING T-LIGHT     22178     1934\n",
       "28   JUMBO BAG STRAWBERRY                85099F    1914\n",
       "29   RED HANGING HEART T-LIGHT HOLDER    21733     1902\n",
       "30   6 RIBBONS RUSTIC CHARM              22077     1856\n",
       "...  ...                                 ...       ... \n",
       "8529 WOOD ANIMALS HEIGHT CHART STICKERS  21249     1   \n",
       "8530 WOODEN HEART CHRISTMAS SCANDISPOT   22577     1   \n",
       "8531 WOVEN BERRIES CUSHION COVER         46776b    1   \n",
       "8532 WOVEN BUBBLE GUM CUSHION COVER      46776a    1   \n",
       "8533 WOVEN CANDY CUSHION COVER           46776e    1   \n",
       "8534 WOVEN ROSE GARDEN CUSHION COVER     46776f    1   \n",
       "8535 WRAP CHRISTMAS DECOUPAGE            16169A    1   \n",
       "8536 WRAP ROMANTIC DECOUPAGE             16169G    1   \n",
       "8537 WRAPPING PAPER, XMAS VILLAGE        22959     1   \n",
       "8538 wrong barcode                       21689     1   \n",
       "8539 wrong barcode (22467)               22719     1   \n",
       "8540 wrong code                          22719     1   \n",
       "8541 wrong code                          85232B    1   \n",
       "8542 wrong code?                         22467     1   \n",
       "8543 wrong ctn size                      85017A    1   \n",
       "8544 wrongly coded-23343                 20713     1   \n",
       "8545 wrongly coded 23343                 20713     1   \n",
       "8546 wrongly marked                      21192     1   \n",
       "8547 wrongly marked 23343                20713     1   \n",
       "8548 wrongly marked carton 22804         85123A    1   \n",
       "8549 wrongly marked. 23343 in box        20713     1   \n",
       "8550 Wrongly mrked had 85123a in box     22804     1   \n",
       "8551 wrongly sold (22719) barcode        22467     1   \n",
       "8552 wrongly sold as sets                85172     1   \n",
       "8553 wrongly sold sets                   85175     1   \n",
       "8554 Zebra invcing error                 10120     1   \n",
       "8555 ZINC HANGING HEART T-LITE HLDR      85123b    1   \n",
       "8556 ZINC HEART HANGER WITH HOOKS        21053     1   \n",
       "8557 ZINC PLANT POT HOLDER               23106     1   \n",
       "8558 ZINC STAR T-LIGHT HOLDER            23086     1   "
      ]
     },
     "metadata": {},
     "output_type": "display_data"
    }
   ],
   "source": [
    "df %>% filter(!grepl('C', StockCode)) %>% group_by (Description,StockCode ) %>% summarize ( n=n() ) %>% arrange (-n)"
   ]
  },
  {
   "cell_type": "code",
   "execution_count": 134,
   "metadata": {
    "scrolled": true
   },
   "outputs": [
    {
     "name": "stderr",
     "output_type": "stream",
     "text": [
      "`summarise()` has grouped output by 'Description'. You can override using the `.groups` argument.\n"
     ]
    },
    {
     "data": {
      "text/html": [
       "<table>\n",
       "<thead><tr><th scope=col>Description</th><th scope=col>StockCode</th><th scope=col>n</th></tr></thead>\n",
       "<tbody>\n",
       "\t<tr><td>                                </td><td>85006                           </td><td>  2                             </td></tr>\n",
       "\t<tr><td>SET 4 NURSERY DES ROUND BOXES   </td><td>85006                           </td><td> 46                             </td></tr>\n",
       "\t<tr><td>                                </td><td>85007                           </td><td>  1                             </td></tr>\n",
       "\t<tr><td>SET OF 3 VINTAGE TEA TIME BOXES </td><td>85007                           </td><td> 23                             </td></tr>\n",
       "\t<tr><td>                                </td><td>85008                           </td><td>  4                             </td></tr>\n",
       "\t<tr><td>SET OF 3 CONEY ISLAND OVAL BOXES</td><td>85008                           </td><td>105                             </td></tr>\n",
       "\t<tr><td>BLACK/BLUE DOTS RUFFLED UMBRELLA</td><td>85014a                          </td><td>  9                             </td></tr>\n",
       "\t<tr><td>BLACK/BLUE POLKADOT UMBRELLA    </td><td>85014a                          </td><td> 22                             </td></tr>\n",
       "\t<tr><td>BLACK/BLUE DOTS RUFFLED UMBRELLA</td><td>85014A                          </td><td>308                             </td></tr>\n",
       "\t<tr><td>BLACK/BLUE POLKADOT UMBRELLA    </td><td>85014A                          </td><td>402                             </td></tr>\n",
       "\t<tr><td>RED RETROSPOT UMBRELLA          </td><td>85014b                          </td><td> 34                             </td></tr>\n",
       "\t<tr><td>RED/WHITE DOTS RUFFLED UMBRELLA </td><td>85014b                          </td><td>  5                             </td></tr>\n",
       "\t<tr><td>RED RETROSPOT UMBRELLA          </td><td>85014B                          </td><td>508                             </td></tr>\n",
       "\t<tr><td>RED/WHITE DOTS RUFFLED UMBRELLA </td><td>85014B                          </td><td>425                             </td></tr>\n",
       "\t<tr><td>                                </td><td>85014C                          </td><td>  3                             </td></tr>\n",
       "\t<tr><td>BLUE/BROWN DOTS RUFFLED UMBRELLA</td><td>85014C                          </td><td> 73                             </td></tr>\n",
       "\t<tr><td>                                </td><td>85014D                          </td><td>  2                             </td></tr>\n",
       "\t<tr><td>PINK/BROWN DOTS RUFFLED UMBRELLA</td><td>85014D                          </td><td> 91                             </td></tr>\n",
       "\t<tr><td>SET OF 12  VINTAGE POSTCARD SET </td><td>85015                           </td><td>263                             </td></tr>\n",
       "\t<tr><td>                                </td><td>85016                           </td><td>  2                             </td></tr>\n",
       "\t<tr><td>SET OF 6 VINTAGE NOTELETS KIT   </td><td>85016                           </td><td>172                             </td></tr>\n",
       "\t<tr><td>                                </td><td>85017A                          </td><td>  4                             </td></tr>\n",
       "\t<tr><td>ENVELOPE 50 ROMANTIC IMAGES     </td><td>85017A                          </td><td>181                             </td></tr>\n",
       "\t<tr><td>wrong ctn size                  </td><td>85017A                          </td><td>  1                             </td></tr>\n",
       "\t<tr><td>                                </td><td>85017B                          </td><td>  3                             </td></tr>\n",
       "\t<tr><td>ENVELOPE 50 BLOSSOM IMAGES      </td><td>85017B                          </td><td>328                             </td></tr>\n",
       "\t<tr><td>?                               </td><td>85017C                          </td><td>  1                             </td></tr>\n",
       "\t<tr><td>adjustment                      </td><td>85017C                          </td><td>  1                             </td></tr>\n",
       "\t<tr><td>ENVELOPE 50 CURIOUS IMAGES      </td><td>85017C                          </td><td>126                             </td></tr>\n",
       "\t<tr><td>Found                           </td><td>85017C                          </td><td>  1                             </td></tr>\n",
       "\t<tr><td>...</td><td>...</td><td>...</td></tr>\n",
       "\t<tr><td>                                 </td><td>85231A                           </td><td>  1                              </td></tr>\n",
       "\t<tr><td>CINAMMON SET OF 9 T-LIGHTS       </td><td>85231b                           </td><td>  4                              </td></tr>\n",
       "\t<tr><td>CINAMMON SET OF 9 T-LIGHTS       </td><td>85231B                           </td><td>412                              </td></tr>\n",
       "\t<tr><td>                                 </td><td>85231D                           </td><td>  1                              </td></tr>\n",
       "\t<tr><td>STRAWBERRY SCENTED SET/9 T-LIGHTS</td><td>85231e                           </td><td>  1                              </td></tr>\n",
       "\t<tr><td>                                 </td><td>85231E                           </td><td>  2                              </td></tr>\n",
       "\t<tr><td>STRAWBERRY SCENTED SET/9 T-LIGHTS</td><td>85231E                           </td><td>109                              </td></tr>\n",
       "\t<tr><td>ORANGE SCENTED SET/9 T-LIGHTS    </td><td>85231g                           </td><td>  6                              </td></tr>\n",
       "\t<tr><td>amazon                           </td><td>85231G                           </td><td>  1                              </td></tr>\n",
       "\t<tr><td>check                            </td><td>85231G                           </td><td>  1                              </td></tr>\n",
       "\t<tr><td>ORANGE SCENTED SET/9 T-LIGHTS    </td><td>85231G                           </td><td>271                              </td></tr>\n",
       "\t<tr><td>                                 </td><td>85231K                           </td><td>  1                              </td></tr>\n",
       "\t<tr><td>                                 </td><td>85231L                           </td><td>  3                              </td></tr>\n",
       "\t<tr><td>LAVENDER SCENTED SET/9 T-LIGHTS  </td><td>85231L                           </td><td>120                              </td></tr>\n",
       "\t<tr><td>SET/3 POLKA DOT STACKING TINS    </td><td>85232a                           </td><td>  2                              </td></tr>\n",
       "\t<tr><td>                                 </td><td>85232A                           </td><td>  2                              </td></tr>\n",
       "\t<tr><td>SET/3 POLKA DOT STACKING TINS    </td><td>85232A                           </td><td>108                              </td></tr>\n",
       "\t<tr><td>SET/3 POLKADOT STACKING TINS     </td><td>85232A                           </td><td> 47                              </td></tr>\n",
       "\t<tr><td>SET OF 3 BABUSHKA STACKING TINS  </td><td>85232b                           </td><td>  8                              </td></tr>\n",
       "\t<tr><td>SET/3 RUSSIAN DOLL STACKING TINS </td><td>85232b                           </td><td> 14                              </td></tr>\n",
       "\t<tr><td>                                 </td><td>85232B                           </td><td>  4                              </td></tr>\n",
       "\t<tr><td>SET OF 3 BABUSHKA STACKING TINS  </td><td>85232B                           </td><td>192                              </td></tr>\n",
       "\t<tr><td>SET/3 RUSSIAN DOLL STACKING TINS </td><td>85232B                           </td><td>393                              </td></tr>\n",
       "\t<tr><td>wrong code                       </td><td>85232B                           </td><td>  1                              </td></tr>\n",
       "\t<tr><td>                                 </td><td>85232C                           </td><td>  2                              </td></tr>\n",
       "\t<tr><td>RUSSIAN FOLKART STACKING TINS    </td><td>85232C                           </td><td>  1                              </td></tr>\n",
       "\t<tr><td>SET/3 DECOUPAGE STACKING TINS    </td><td>85232d                           </td><td>  1                              </td></tr>\n",
       "\t<tr><td>                                 </td><td>85232D                           </td><td>  2                              </td></tr>\n",
       "\t<tr><td>mix up with c                    </td><td>85232D                           </td><td>  1                              </td></tr>\n",
       "\t<tr><td>SET/3 DECOUPAGE STACKING TINS    </td><td>85232D                           </td><td>244                              </td></tr>\n",
       "</tbody>\n",
       "</table>\n"
      ],
      "text/latex": [
       "\\begin{tabular}{r|lll}\n",
       " Description & StockCode & n\\\\\n",
       "\\hline\n",
       "\t                                  & 85006                            &   2                             \\\\\n",
       "\t SET 4 NURSERY DES ROUND BOXES    & 85006                            &  46                             \\\\\n",
       "\t                                  & 85007                            &   1                             \\\\\n",
       "\t SET OF 3 VINTAGE TEA TIME BOXES  & 85007                            &  23                             \\\\\n",
       "\t                                  & 85008                            &   4                             \\\\\n",
       "\t SET OF 3 CONEY ISLAND OVAL BOXES & 85008                            & 105                             \\\\\n",
       "\t BLACK/BLUE DOTS RUFFLED UMBRELLA & 85014a                           &   9                             \\\\\n",
       "\t BLACK/BLUE POLKADOT UMBRELLA     & 85014a                           &  22                             \\\\\n",
       "\t BLACK/BLUE DOTS RUFFLED UMBRELLA & 85014A                           & 308                             \\\\\n",
       "\t BLACK/BLUE POLKADOT UMBRELLA     & 85014A                           & 402                             \\\\\n",
       "\t RED RETROSPOT UMBRELLA           & 85014b                           &  34                             \\\\\n",
       "\t RED/WHITE DOTS RUFFLED UMBRELLA  & 85014b                           &   5                             \\\\\n",
       "\t RED RETROSPOT UMBRELLA           & 85014B                           & 508                             \\\\\n",
       "\t RED/WHITE DOTS RUFFLED UMBRELLA  & 85014B                           & 425                             \\\\\n",
       "\t                                  & 85014C                           &   3                             \\\\\n",
       "\t BLUE/BROWN DOTS RUFFLED UMBRELLA & 85014C                           &  73                             \\\\\n",
       "\t                                  & 85014D                           &   2                             \\\\\n",
       "\t PINK/BROWN DOTS RUFFLED UMBRELLA & 85014D                           &  91                             \\\\\n",
       "\t SET OF 12  VINTAGE POSTCARD SET  & 85015                            & 263                             \\\\\n",
       "\t                                  & 85016                            &   2                             \\\\\n",
       "\t SET OF 6 VINTAGE NOTELETS KIT    & 85016                            & 172                             \\\\\n",
       "\t                                  & 85017A                           &   4                             \\\\\n",
       "\t ENVELOPE 50 ROMANTIC IMAGES      & 85017A                           & 181                             \\\\\n",
       "\t wrong ctn size                   & 85017A                           &   1                             \\\\\n",
       "\t                                  & 85017B                           &   3                             \\\\\n",
       "\t ENVELOPE 50 BLOSSOM IMAGES       & 85017B                           & 328                             \\\\\n",
       "\t ?                                & 85017C                           &   1                             \\\\\n",
       "\t adjustment                       & 85017C                           &   1                             \\\\\n",
       "\t ENVELOPE 50 CURIOUS IMAGES       & 85017C                           & 126                             \\\\\n",
       "\t Found                            & 85017C                           &   1                             \\\\\n",
       "\t ... & ... & ...\\\\\n",
       "\t                                   & 85231A                            &   1                              \\\\\n",
       "\t CINAMMON SET OF 9 T-LIGHTS        & 85231b                            &   4                              \\\\\n",
       "\t CINAMMON SET OF 9 T-LIGHTS        & 85231B                            & 412                              \\\\\n",
       "\t                                   & 85231D                            &   1                              \\\\\n",
       "\t STRAWBERRY SCENTED SET/9 T-LIGHTS & 85231e                            &   1                              \\\\\n",
       "\t                                   & 85231E                            &   2                              \\\\\n",
       "\t STRAWBERRY SCENTED SET/9 T-LIGHTS & 85231E                            & 109                              \\\\\n",
       "\t ORANGE SCENTED SET/9 T-LIGHTS     & 85231g                            &   6                              \\\\\n",
       "\t amazon                            & 85231G                            &   1                              \\\\\n",
       "\t check                             & 85231G                            &   1                              \\\\\n",
       "\t ORANGE SCENTED SET/9 T-LIGHTS     & 85231G                            & 271                              \\\\\n",
       "\t                                   & 85231K                            &   1                              \\\\\n",
       "\t                                   & 85231L                            &   3                              \\\\\n",
       "\t LAVENDER SCENTED SET/9 T-LIGHTS   & 85231L                            & 120                              \\\\\n",
       "\t SET/3 POLKA DOT STACKING TINS     & 85232a                            &   2                              \\\\\n",
       "\t                                   & 85232A                            &   2                              \\\\\n",
       "\t SET/3 POLKA DOT STACKING TINS     & 85232A                            & 108                              \\\\\n",
       "\t SET/3 POLKADOT STACKING TINS      & 85232A                            &  47                              \\\\\n",
       "\t SET OF 3 BABUSHKA STACKING TINS   & 85232b                            &   8                              \\\\\n",
       "\t SET/3 RUSSIAN DOLL STACKING TINS  & 85232b                            &  14                              \\\\\n",
       "\t                                   & 85232B                            &   4                              \\\\\n",
       "\t SET OF 3 BABUSHKA STACKING TINS   & 85232B                            & 192                              \\\\\n",
       "\t SET/3 RUSSIAN DOLL STACKING TINS  & 85232B                            & 393                              \\\\\n",
       "\t wrong code                        & 85232B                            &   1                              \\\\\n",
       "\t                                   & 85232C                            &   2                              \\\\\n",
       "\t RUSSIAN FOLKART STACKING TINS     & 85232C                            &   1                              \\\\\n",
       "\t SET/3 DECOUPAGE STACKING TINS     & 85232d                            &   1                              \\\\\n",
       "\t                                   & 85232D                            &   2                              \\\\\n",
       "\t mix up with c                     & 85232D                            &   1                              \\\\\n",
       "\t SET/3 DECOUPAGE STACKING TINS     & 85232D                            & 244                              \\\\\n",
       "\\end{tabular}\n"
      ],
      "text/markdown": [
       "\n",
       "| Description | StockCode | n |\n",
       "|---|---|---|\n",
       "|                                  | 85006                            |   2                              |\n",
       "| SET 4 NURSERY DES ROUND BOXES    | 85006                            |  46                              |\n",
       "|                                  | 85007                            |   1                              |\n",
       "| SET OF 3 VINTAGE TEA TIME BOXES  | 85007                            |  23                              |\n",
       "|                                  | 85008                            |   4                              |\n",
       "| SET OF 3 CONEY ISLAND OVAL BOXES | 85008                            | 105                              |\n",
       "| BLACK/BLUE DOTS RUFFLED UMBRELLA | 85014a                           |   9                              |\n",
       "| BLACK/BLUE POLKADOT UMBRELLA     | 85014a                           |  22                              |\n",
       "| BLACK/BLUE DOTS RUFFLED UMBRELLA | 85014A                           | 308                              |\n",
       "| BLACK/BLUE POLKADOT UMBRELLA     | 85014A                           | 402                              |\n",
       "| RED RETROSPOT UMBRELLA           | 85014b                           |  34                              |\n",
       "| RED/WHITE DOTS RUFFLED UMBRELLA  | 85014b                           |   5                              |\n",
       "| RED RETROSPOT UMBRELLA           | 85014B                           | 508                              |\n",
       "| RED/WHITE DOTS RUFFLED UMBRELLA  | 85014B                           | 425                              |\n",
       "|                                  | 85014C                           |   3                              |\n",
       "| BLUE/BROWN DOTS RUFFLED UMBRELLA | 85014C                           |  73                              |\n",
       "|                                  | 85014D                           |   2                              |\n",
       "| PINK/BROWN DOTS RUFFLED UMBRELLA | 85014D                           |  91                              |\n",
       "| SET OF 12  VINTAGE POSTCARD SET  | 85015                            | 263                              |\n",
       "|                                  | 85016                            |   2                              |\n",
       "| SET OF 6 VINTAGE NOTELETS KIT    | 85016                            | 172                              |\n",
       "|                                  | 85017A                           |   4                              |\n",
       "| ENVELOPE 50 ROMANTIC IMAGES      | 85017A                           | 181                              |\n",
       "| wrong ctn size                   | 85017A                           |   1                              |\n",
       "|                                  | 85017B                           |   3                              |\n",
       "| ENVELOPE 50 BLOSSOM IMAGES       | 85017B                           | 328                              |\n",
       "| ?                                | 85017C                           |   1                              |\n",
       "| adjustment                       | 85017C                           |   1                              |\n",
       "| ENVELOPE 50 CURIOUS IMAGES       | 85017C                           | 126                              |\n",
       "| Found                            | 85017C                           |   1                              |\n",
       "| ... | ... | ... |\n",
       "|                                   | 85231A                            |   1                               |\n",
       "| CINAMMON SET OF 9 T-LIGHTS        | 85231b                            |   4                               |\n",
       "| CINAMMON SET OF 9 T-LIGHTS        | 85231B                            | 412                               |\n",
       "|                                   | 85231D                            |   1                               |\n",
       "| STRAWBERRY SCENTED SET/9 T-LIGHTS | 85231e                            |   1                               |\n",
       "|                                   | 85231E                            |   2                               |\n",
       "| STRAWBERRY SCENTED SET/9 T-LIGHTS | 85231E                            | 109                               |\n",
       "| ORANGE SCENTED SET/9 T-LIGHTS     | 85231g                            |   6                               |\n",
       "| amazon                            | 85231G                            |   1                               |\n",
       "| check                             | 85231G                            |   1                               |\n",
       "| ORANGE SCENTED SET/9 T-LIGHTS     | 85231G                            | 271                               |\n",
       "|                                   | 85231K                            |   1                               |\n",
       "|                                   | 85231L                            |   3                               |\n",
       "| LAVENDER SCENTED SET/9 T-LIGHTS   | 85231L                            | 120                               |\n",
       "| SET/3 POLKA DOT STACKING TINS     | 85232a                            |   2                               |\n",
       "|                                   | 85232A                            |   2                               |\n",
       "| SET/3 POLKA DOT STACKING TINS     | 85232A                            | 108                               |\n",
       "| SET/3 POLKADOT STACKING TINS      | 85232A                            |  47                               |\n",
       "| SET OF 3 BABUSHKA STACKING TINS   | 85232b                            |   8                               |\n",
       "| SET/3 RUSSIAN DOLL STACKING TINS  | 85232b                            |  14                               |\n",
       "|                                   | 85232B                            |   4                               |\n",
       "| SET OF 3 BABUSHKA STACKING TINS   | 85232B                            | 192                               |\n",
       "| SET/3 RUSSIAN DOLL STACKING TINS  | 85232B                            | 393                               |\n",
       "| wrong code                        | 85232B                            |   1                               |\n",
       "|                                   | 85232C                            |   2                               |\n",
       "| RUSSIAN FOLKART STACKING TINS     | 85232C                            |   1                               |\n",
       "| SET/3 DECOUPAGE STACKING TINS     | 85232d                            |   1                               |\n",
       "|                                   | 85232D                            |   2                               |\n",
       "| mix up with c                     | 85232D                            |   1                               |\n",
       "| SET/3 DECOUPAGE STACKING TINS     | 85232D                            | 244                               |\n",
       "\n"
      ],
      "text/plain": [
       "    Description                       StockCode n  \n",
       "1                                     85006       2\n",
       "2   SET 4 NURSERY DES ROUND BOXES     85006      46\n",
       "3                                     85007       1\n",
       "4   SET OF 3 VINTAGE TEA TIME BOXES   85007      23\n",
       "5                                     85008       4\n",
       "6   SET OF 3 CONEY ISLAND OVAL BOXES  85008     105\n",
       "7   BLACK/BLUE DOTS RUFFLED UMBRELLA  85014a      9\n",
       "8   BLACK/BLUE POLKADOT UMBRELLA      85014a     22\n",
       "9   BLACK/BLUE DOTS RUFFLED UMBRELLA  85014A    308\n",
       "10  BLACK/BLUE POLKADOT UMBRELLA      85014A    402\n",
       "11  RED RETROSPOT UMBRELLA            85014b     34\n",
       "12  RED/WHITE DOTS RUFFLED UMBRELLA   85014b      5\n",
       "13  RED RETROSPOT UMBRELLA            85014B    508\n",
       "14  RED/WHITE DOTS RUFFLED UMBRELLA   85014B    425\n",
       "15                                    85014C      3\n",
       "16  BLUE/BROWN DOTS RUFFLED UMBRELLA  85014C     73\n",
       "17                                    85014D      2\n",
       "18  PINK/BROWN DOTS RUFFLED UMBRELLA  85014D     91\n",
       "19  SET OF 12  VINTAGE POSTCARD SET   85015     263\n",
       "20                                    85016       2\n",
       "21  SET OF 6 VINTAGE NOTELETS KIT     85016     172\n",
       "22                                    85017A      4\n",
       "23  ENVELOPE 50 ROMANTIC IMAGES       85017A    181\n",
       "24  wrong ctn size                    85017A      1\n",
       "25                                    85017B      3\n",
       "26  ENVELOPE 50 BLOSSOM IMAGES        85017B    328\n",
       "27  ?                                 85017C      1\n",
       "28  adjustment                        85017C      1\n",
       "29  ENVELOPE 50 CURIOUS IMAGES        85017C    126\n",
       "30  Found                             85017C      1\n",
       "... ...                               ...       ...\n",
       "582                                   85231A      1\n",
       "583 CINAMMON SET OF 9 T-LIGHTS        85231b      4\n",
       "584 CINAMMON SET OF 9 T-LIGHTS        85231B    412\n",
       "585                                   85231D      1\n",
       "586 STRAWBERRY SCENTED SET/9 T-LIGHTS 85231e      1\n",
       "587                                   85231E      2\n",
       "588 STRAWBERRY SCENTED SET/9 T-LIGHTS 85231E    109\n",
       "589 ORANGE SCENTED SET/9 T-LIGHTS     85231g      6\n",
       "590 amazon                            85231G      1\n",
       "591 check                             85231G      1\n",
       "592 ORANGE SCENTED SET/9 T-LIGHTS     85231G    271\n",
       "593                                   85231K      1\n",
       "594                                   85231L      3\n",
       "595 LAVENDER SCENTED SET/9 T-LIGHTS   85231L    120\n",
       "596 SET/3 POLKA DOT STACKING TINS     85232a      2\n",
       "597                                   85232A      2\n",
       "598 SET/3 POLKA DOT STACKING TINS     85232A    108\n",
       "599 SET/3 POLKADOT STACKING TINS      85232A     47\n",
       "600 SET OF 3 BABUSHKA STACKING TINS   85232b      8\n",
       "601 SET/3 RUSSIAN DOLL STACKING TINS  85232b     14\n",
       "602                                   85232B      4\n",
       "603 SET OF 3 BABUSHKA STACKING TINS   85232B    192\n",
       "604 SET/3 RUSSIAN DOLL STACKING TINS  85232B    393\n",
       "605 wrong code                        85232B      1\n",
       "606                                   85232C      2\n",
       "607 RUSSIAN FOLKART STACKING TINS     85232C      1\n",
       "608 SET/3 DECOUPAGE STACKING TINS     85232d      1\n",
       "609                                   85232D      2\n",
       "610 mix up with c                     85232D      1\n",
       "611 SET/3 DECOUPAGE STACKING TINS     85232D    244"
      ]
     },
     "metadata": {},
     "output_type": "display_data"
    }
   ],
   "source": [
    "# Lots :\n",
    "df %>% filter(grepl('^85', StockCode)) %>% group_by (Description,StockCode ) %>% summarize ( n=n() ) %>% arrange (StockCode) \n",
    "\n",
    "\n",
    "# Signs, hooks, wooden cabinets and frames\n",
    "# df %>% filter(grepl('^82', StockCode)) %>% group_by (Description,StockCode ) %>% summarize ( n=n() ) %>% arrange (-n)\n",
    "\n",
    "# 824 - Wooden furniture\n",
    "#df %>% filter(grepl('^824', StockCode)) %>% group_by (Description,StockCode ) %>% summarize ( n=n() ) %>% arrange (-n)\n",
    "\n",
    "# Signs \n",
    "# Except 82585,82587   82545A\n",
    "#df %>% filter(grepl('^825', StockCode)) %>% group_by (Description,StockCode ) %>% summarize ( n=n() ) %>% arrange (-n)\n",
    "\n",
    "\n",
    "\n",
    "# Trays, vases, lighting\n",
    "#df %>% filter(grepl('^791', StockCode)) %>% group_by (Description,StockCode ) %>% summarize ( n=n() ) %>% arrange (-n)\n",
    "\n",
    "# Vase\n",
    "#df %>% filter(grepl('^7917', StockCode)) %>% group_by (Description,StockCode ) %>% summarize ( n=n() ) %>% arrange (-n)\n",
    "\n",
    "\n",
    "# Doorbells, champagne glasses, party lights\n",
    "#df %>% filter(grepl('^7916', StockCode)) %>% group_by (Description,StockCode ) %>% summarize ( n=n() ) %>% arrange (-n)\n",
    "\n",
    "# Trays\n",
    "#df %>% filter(grepl('^7919', StockCode)) %>% group_by (Description,StockCode ) %>% summarize ( n=n() ) %>% arrange (-n)\n",
    "\n",
    "# Lighting\n",
    "#df %>% filter(grepl('^793', StockCode)) %>% group_by (Description,StockCode ) %>% summarize ( n=n() ) %>% arrange (-n)\n",
    "\n"
   ]
  },
  {
   "cell_type": "code",
   "execution_count": 9,
   "metadata": {},
   "outputs": [
    {
     "data": {
      "text/html": [
       "<ol class=list-inline>\n",
       "\t<li>1067371</li>\n",
       "\t<li>8</li>\n",
       "</ol>\n"
      ],
      "text/latex": [
       "\\begin{enumerate*}\n",
       "\\item 1067371\n",
       "\\item 8\n",
       "\\end{enumerate*}\n"
      ],
      "text/markdown": [
       "1. 1067371\n",
       "2. 8\n",
       "\n",
       "\n"
      ],
      "text/plain": [
       "[1] 1067371       8"
      ]
     },
     "metadata": {},
     "output_type": "display_data"
    }
   ],
   "source": [
    "1dim (df)"
   ]
  },
  {
   "cell_type": "code",
   "execution_count": 17,
   "metadata": {},
   "outputs": [
    {
     "data": {
      "text/html": [
       "-80995"
      ],
      "text/latex": [
       "-80995"
      ],
      "text/markdown": [
       "-80995"
      ],
      "text/plain": [
       "[1] -80995"
      ]
     },
     "metadata": {},
     "output_type": "display_data"
    },
    {
     "data": {
      "text/html": [
       "80995"
      ],
      "text/latex": [
       "80995"
      ],
      "text/markdown": [
       "80995"
      ],
      "text/plain": [
       "[1] 80995"
      ]
     },
     "metadata": {},
     "output_type": "display_data"
    },
    {
     "data": {
      "text/html": [
       "9.9388984711033"
      ],
      "text/latex": [
       "9.9388984711033"
      ],
      "text/markdown": [
       "9.9388984711033"
      ],
      "text/plain": [
       "[1] 9.938898"
      ]
     },
     "metadata": {},
     "output_type": "display_data"
    }
   ],
   "source": [
    "min  ( df$Quantity  ) ; max (df$Quantity); mean (df$Quantity)"
   ]
  },
  {
   "cell_type": "code",
   "execution_count": 40,
   "metadata": {},
   "outputs": [],
   "source": [
    "df2 =  (df %>% filter (abs (Quantity) != 80995))"
   ]
  },
  {
   "cell_type": "code",
   "execution_count": 57,
   "metadata": {},
   "outputs": [
    {
     "data": {
      "text/html": [
       "<table>\n",
       "<thead><tr><th scope=col>Invoice</th><th scope=col>StockCode</th><th scope=col>Description</th><th scope=col>Quantity</th><th scope=col>InvoiceDate</th><th scope=col>Price</th><th scope=col>Customer.ID</th><th scope=col>Country</th></tr></thead>\n",
       "<tbody>\n",
       "\t<tr><td>C489535            </td><td>D                  </td><td>Discount           </td><td>-1                 </td><td>2009-12-01 12:11:00</td><td> 9                 </td><td>15299              </td><td>United Kingdom     </td></tr>\n",
       "\t<tr><td>C489535            </td><td>D                  </td><td>Discount           </td><td>-1                 </td><td>2009-12-01 12:11:00</td><td>19                 </td><td>15299              </td><td>United Kingdom     </td></tr>\n",
       "</tbody>\n",
       "</table>\n"
      ],
      "text/latex": [
       "\\begin{tabular}{r|llllllll}\n",
       " Invoice & StockCode & Description & Quantity & InvoiceDate & Price & Customer.ID & Country\\\\\n",
       "\\hline\n",
       "\t C489535             & D                   & Discount            & -1                  & 2009-12-01 12:11:00 &  9                  & 15299               & United Kingdom     \\\\\n",
       "\t C489535             & D                   & Discount            & -1                  & 2009-12-01 12:11:00 & 19                  & 15299               & United Kingdom     \\\\\n",
       "\\end{tabular}\n"
      ],
      "text/markdown": [
       "\n",
       "| Invoice | StockCode | Description | Quantity | InvoiceDate | Price | Customer.ID | Country |\n",
       "|---|---|---|---|---|---|---|---|\n",
       "| C489535             | D                   | Discount            | -1                  | 2009-12-01 12:11:00 |  9                  | 15299               | United Kingdom      |\n",
       "| C489535             | D                   | Discount            | -1                  | 2009-12-01 12:11:00 | 19                  | 15299               | United Kingdom      |\n",
       "\n"
      ],
      "text/plain": [
       "  Invoice StockCode Description Quantity InvoiceDate         Price Customer.ID\n",
       "1 C489535 D         Discount    -1       2009-12-01 12:11:00  9    15299      \n",
       "2 C489535 D         Discount    -1       2009-12-01 12:11:00 19    15299      \n",
       "  Country       \n",
       "1 United Kingdom\n",
       "2 United Kingdom"
      ]
     },
     "metadata": {},
     "output_type": "display_data"
    },
    {
     "data": {
      "text/html": [
       "<table>\n",
       "<thead><tr><th scope=col>Invoice</th><th scope=col>StockCode</th><th scope=col>Description</th><th scope=col>Quantity</th><th scope=col>InvoiceDate</th><th scope=col>Price</th><th scope=col>Customer.ID</th><th scope=col>Country</th></tr></thead>\n",
       "<tbody>\n",
       "</tbody>\n",
       "</table>\n"
      ],
      "text/latex": [
       "\\begin{tabular}{r|llllllll}\n",
       " Invoice & StockCode & Description & Quantity & InvoiceDate & Price & Customer.ID & Country\\\\\n",
       "\\hline\n",
       "\\end{tabular}\n"
      ],
      "text/markdown": [
       "\n",
       "| Invoice | StockCode | Description | Quantity | InvoiceDate | Price | Customer.ID | Country |\n",
       "|---|---|---|---|---|---|---|---|\n",
       "\n"
      ],
      "text/plain": [
       "     Invoice StockCode Description Quantity InvoiceDate Price Customer.ID\n",
       "     Country"
      ]
     },
     "metadata": {},
     "output_type": "display_data"
    }
   ],
   "source": [
    "dftmp = df %>% filter ( Quantity < 0 )\n",
    "#dftmp [1:1000, 'Invoice']\n",
    "dftmp %>% filter (Invoice=='C489535')\n",
    "dftmp %>% filter (Invoice=='489535')\n"
   ]
  }
 ],
 "metadata": {
  "kernelspec": {
   "display_name": "R",
   "language": "R",
   "name": "ir"
  }
 },
 "nbformat": 4,
 "nbformat_minor": 4
}
